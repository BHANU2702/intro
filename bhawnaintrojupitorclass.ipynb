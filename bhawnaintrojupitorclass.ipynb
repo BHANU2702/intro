{
 "cells": [
  {
   "cell_type": "code",
   "execution_count": null,
   "id": "67b7b269",
   "metadata": {},
   "outputs": [],
   "source": [
    "print(\"hello world\")\n",
    "print(\"dsg1023\")"
   ]
  },
  {
   "cell_type": "code",
   "execution_count": null,
   "id": "fe4d583f",
   "metadata": {},
   "outputs": [],
   "source": [
    "250+12"
   ]
  },
  {
   "cell_type": "code",
   "execution_count": null,
   "id": "1388f596",
   "metadata": {},
   "outputs": [],
   "source": [
    "10"
   ]
  },
  {
   "cell_type": "code",
   "execution_count": null,
   "id": "f7f9363b",
   "metadata": {},
   "outputs": [],
   "source": [
    "250+150"
   ]
  },
  {
   "cell_type": "markdown",
   "id": "1198d72d",
   "metadata": {},
   "source": [
    "comment is used ny markdown\n"
   ]
  }
 ],
 "metadata": {
  "kernelspec": {
   "display_name": "Python 3 (ipykernel)",
   "language": "python",
   "name": "python3"
  },
  "language_info": {
   "codemirror_mode": {
    "name": "ipython",
    "version": 3
   },
   "file_extension": ".py",
   "mimetype": "text/x-python",
   "name": "python",
   "nbconvert_exporter": "python",
   "pygments_lexer": "ipython3",
   "version": "3.11.5"
  }
 },
 "nbformat": 4,
 "nbformat_minor": 5
}
